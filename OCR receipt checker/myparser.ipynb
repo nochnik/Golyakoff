{
 "cells": [
  {
   "cell_type": "code",
   "execution_count": 2,
   "metadata": {},
   "outputs": [],
   "source": [
    "import requests\n",
    "from bs4 import BeautifulSoup\n",
    "url = 'https://ofd1.kz/t/?i=353123290128&f=010101506924&s=1995.0&t=20230417T215646'\n",
    "response = requests.get(url)\n"
   ]
  },
  {
   "cell_type": "code",
   "execution_count": 3,
   "metadata": {},
   "outputs": [
    {
     "data": {
      "text/plain": [
       "'<!DOCTYPE html>\\n<html lang=\"ru\">\\n  <head>\\n    <meta charset=\"utf-8\">\\n    <meta http-equiv=\"X-UA-Compatible\" content=\"IE=edge\">\\n    <meta name=\"viewport\" content=\"width=device-width, initial-scale=1\">\\n    <meta name=\"description\" content=\"\">\\n    <meta name=\"author\" content=\"\">\\n<link rel=\\'shortcut icon\\' href=\\'/images/faviconttc.ico\\' type=\\'image/x-icon\\'>\\n    <title>ОФД </title>\\n    <link rel=\"stylesheet\" href=\"/css/app.css?2363055\">\\n\\n    <link rel=\"stylesheet\" href=\"/css/datepicker.min.css\"/>\\n    <script src=\"/js/jquery.min.js\"></script>\\n    <script src=\"/js/inputmask.min.js\"></script>\\n  </head>\\n\\n  <body class=\"clean_layout\">\\n\\n\\n    <nav class=\"navbar navbar-expand-md navbar-dark black-bg top_menu\">\\n      <button class=\"navbar-toggler\" type=\"button\" data-toggle=\"collapse\" data-target=\"#top_menu\" aria-controls=\"top_menu\" aria-expanded=\"false\" aria-label=\"Toggle navigation\">\\n        <span class=\"navbar-toggler-icon\"></span>\\n      </button>\\n\\n      <div class=\"navbar-collapse collapse\" id=\"top_menu\" style=\"\">\\n        <a href=\"/\"><img src=\\'/images/ttc_white_text.svg\\' alt=\\'logo\\' class=\\'logo\\'></a>\\n        <ul class=\"navbar-nav mt-0 \" id=\"\">\\n          <li class=\"nav-item d-none\">\\n<a class=\"nav-link\" href=\"/\">Главная</a>\\n          </li>\\n          <li class=\"nav-item d-none\">\\n<a class=\"nav-link\" href=\"/load_cert\">Регистрация организации</a>\\n          </li>\\n          <li class=\"nav-item d-none\">\\n<a class=\"nav-link\" href=\"/user_registration\">Регистрация пользователя</a>\\n          </li>\\n\\n          <!--\\n          <li class=\"nav-item\">\\n<a class=\"nav-link\" href=\"/reg_legperson_1\">Регистрация юрлица</a>\\n          </li>\\n          <li class=\"nav-item\">\\n<a class=\"nav-link\" href=\"/reg_busperson_1\">Регистрация физлица</a>\\n          </li> -->\\n          <li>\\n<a class=\"nav-link\" href=\"/login\">Личный кабинет</a>\\n          </li>\\n          <li class=\"nav-item\">\\n<a class=\"nav-link\" href=\"/business_registration\">Зарегистрировать компанию</a>\\n          </li>\\n          <li class=\"nav-item\">\\n<a class=\"nav-link\" href=\"/check_ticket\">Проверка чека</a>\\n          </li>\\n          <li class=\"nav-item\">\\n<a class=\"nav-link\" href=\"/service_center/login/\">Вход для ЦТО</a>\\n          </li>\\n\\n\\n          <!--\\n          <li class=\"nav-item\">\\n            <a href=\"/landing\" class=\"nav-link\">Лендинг</a>\\n          </li> -->\\n\\n        </ul>\\n        <div class=\"langs-login\">\\n          <span style=\"color: #ccc\">\\nВыбор языка<span />\\n            <div class=\"langs__block\">\\n              <a class=\"lang_redirect\" data-lang=\"rus\" href=\"/lang/rus\">Рус</a>\\n              <a class=\"lang_redirect\" data-lang=\"kaz\" href=\"/lang/kaz\">Қаз</a>\\n              <a class=\"lang_redirect\" data-lang=\"eng\" href=\"/lang/eng\">Eng</a>\\n            </div>\\n        </div>\\n      </div>\\n    </nav>\\n\\n    <div class=\"container mt-2\">\\n      <div class=\"app_main__centered\">\\n        <div class=\"page_inner__centered\">\\n          <p class=\"alert alert-info\" role=\"alert\"></p>\\n          <p class=\"alert alert-danger\" role=\"alert\"></p>\\n\\n          <main role=\"main\">\\n<div class=\"ready_ticket tickets_data_for_print\"\\n  style=\"width: 300px;margin: 0 auto 45px; font-family: monospace;-webkit-box-shadow: 0 5px 20px 0 rgba(0, 0, 0, 0.35);box-shadow: 0 5px 20px 0 rgba(0, 0, 0, 0.35);padding: 15px;font-size: 12px;height: 500px;overflow-y: auto;\">\\n  <div class=\"ticket_header\"\\n    style=\"text-align: center;border-bottom: 1px dotted #777;margin-bottom: 15px;padding-bottom: 15px; overflow: auto;\">\\n    <div><span class=\"\">\\nФИЛИАЛ №46 ТОВАРИЩЕСТВА С ОГРАНИЧЕННОЙ ОТВЕТСТВЕННОСТЬЮ &quot;MAGNUM CASH&amp;CARRY&quot; В ГОРОДЕ НУР-СУЛТАН\\n      </span></div>\\n    <div>\\nИИН/БИН: <span class=\"\">\\n210941026669\\n      </span>\\n    </div>\\n    <div>\\nРНМ: <span class=\"\">\\n010101506924\\n      </span>\\n    </div>\\n    <div>\\nЗНМ: <span class=\"\">\\n500141622\\n      </span>\\n    </div>\\n    <div>\\nАдрес: <span class=\"\">\\nРеспублика Казахстан, г. Астана, р-н Есиль,\\nҚабанбай Батыр, д. здание 53, оф. \\n      </span>\\n    </div>\\n    <div>\\nДата и время: <span class=\"\">\\n17 апр 2023, 21:56\\n      </span>\\n    </div>\\n    <div>\\nКассовый чек <span class=\"\">/ Продажа\\n      </span>\\n    </div>\\n  </div>\\n  <div class=\"ticket_body\">\\n    <ol class=\"ready_ticket__items_list\"\\n      style=\"margin: 0;padding: 0; list-style: none; margin-bottom: 15px; padding-bottom: 15px;\">\\n\\n\\n          <li style=\"border-bottom: 1px dotted #777; padding: 10px 0;\">\\n4607012351999 СЕМЕЧКИ ОТ МАРТИНА ОТБОРНЫЕ С СОЛЬЮ 200ГР П/П\\n            <small>\\n\\n              </small> <br />\\n              <div class=\"ready_ticket__item\">\\n                <b>\\n0\\n                </b>\\n845.00 x\\n1\\n1\\n                  = 845.00\\n                  <div>\\n-налог (12.0%): 90.54<br />\\n\\n\\n                  </div>\\n                </div>\\n              </li>\\n\\n\\n\\n\\n\\n\\n\\n          <li style=\"border-bottom: 1px dotted #777; padding: 10px 0;\">\\n4870235043068 НАПИТОК ЗОЛОТОЕ КОЛЬЦО ОРИГИНАЛЬНЫЙ 1Л П/Б\\n            <small>\\n\\n              </small> <br />\\n              <div class=\"ready_ticket__item\">\\n                <b>\\n0\\n                </b>\\n381.00 x\\n1\\n1\\n                  = 381.00\\n                  <div>\\n-налог (12.0%): 40.82<br />\\n\\n\\n                  </div>\\n                </div>\\n              </li>\\n\\n\\n\\n\\n\\n\\n\\n          <li style=\"border-bottom: 1px dotted #777; padding: 10px 0;\">\\n4870055004287 КЕФИР FOODMASTER БИО-С 3,2% 1Л Т/П\\n            <small>\\n\\n              </small> <br />\\n              <div class=\"ready_ticket__item\">\\n                <b>\\n0\\n                </b>\\n769.00 x\\n1\\n1\\n                  = 769.00\\n                  <div>\\n-налог (12.0%): 82.39<br />\\n\\n\\n                  </div>\\n                </div>\\n              </li>\\n\\n\\n\\n\\n\\n\\n        </ol>\\n        <div class=\"total_sum\" style=\"margin-top: -20px;\">\\n          <div>\\n            <b style=\"font-size: 24px;\">\\nИТОГО:\\n              <span class=\"ticket_total bit_depth\">\\n1995.00\\n              </span>\\n            </b>\\n          </div>\\n          <ul class=\"list-unstyled\" style=\"display: inline\" >\\n\\n              <li>Карта: 1995.00</li>\\n\\n          </ul>\\n\\n        </div>\\n\\n\\n          <div>\\n\\n              <ul> в т.ч. НДС(12.0)%: 213.75</ul>\\n\\n            </div>\\n\\n          <div>\\n\\n          </div>\\n        </div>\\n        <div class=\"ticket_footer\">\\n          <div class=\"text-center\">\\nФискальный чек\\n          </div>\\n          <div class=\"text-center\">\\n            <b>\\n\\n              </b>\\n            </div>\\n            <div>\\nФискальный признак: <span class=\"\">353123290128</span>\\n            </div>\\n            <div>\\nОФД - <span class=\"\">АО «Транстелеком»</span>\\n            </div>\\n            <div>\\nДля проверки зайдите на сайт: <span class=\"\">ofd1.kz/t</span>\\n            </div>\\n            <div class=\"qrcode_show_ticket\" style=\"display: flex; justify-content: center; margin: 1rem;\"></div>\\n          </div>\\n        </div>\\n        <button onclick=\"copyUrl()\" class=\"btn btn-primary\" style=\"max-width: 100%; margin-top: 0;\">Скопировать ссылку на чек</button>\\n        <div style=\"display: flex; gap: 8px\">\\n          <button class=\"btn btn-primary\" onclick=\"printTicket()\">Распечатать</button>\\n          <button class=\"btn btn-primary\" onclick=\"printPdf()\">Скачать PDF</button>\\n<form accept-charset=\"UTF-8\" action=\"/download_ticket_pdf\" class=\"d-none\" method=\"post\"><input name=\"_csrf_token\" type=\"hidden\" value=\"Egs6UhkGCXZHHXAZITAvZA8dClYEP0I8GrBaj01E-rCjuZL-8LUdAIuR\"><input name=\"_utf8\" type=\"hidden\" value=\"✓\">\\n<textarea class=\"d-none\" id=\"ticket_body\" name=\"ticket_body\">\\n</textarea>\\n<button id=\"download_ticket_pdf_btn_submit\" name=\"download_ticket_pdf_btn_submit\" type=\"submit\"></button>\\n</form>\\n      </div>\\n      <div style=\"display: flex; gap: 8px\">\\n        <input id=\"recipient_input\" type=\"email\" placeholder=\"Введите email...\" class=\"form-control\" style=\"margin-top: 1rem; border-radius: 0.5rem\">\\n        <button class=\"btn btn-primary\" onclick=\"sendEmail()\">Отправить email</button>\\n<form accept-charset=\"UTF-8\" action=\"/email_ticket_pdf\" class=\"d-none\" method=\"post\"><input name=\"_csrf_token\" type=\"hidden\" value=\"Egs6UhkGCXZHHXAZITAvZA8dClYEP0I8GrBaj01E-rCjuZL-8LUdAIuR\"><input name=\"_utf8\" type=\"hidden\" value=\"✓\">\\n<textarea class=\"d-none\" id=\"ticket_body_email\" name=\"ticket_body_email\">\\n</textarea>\\n<textarea class=\"d-none\" id=\"recipient\" name=\"recipient\">\\n</textarea>\\n<textarea class=\"d-none\" id=\"url\" name=\"url\">\\n</textarea>\\n<button id=\"email_ticket_pdf_btn_submit\" name=\"email_ticket_pdf_btn_submit\" type=\"submit\"></button>\\n</form>\\n    </div>\\n    <script>\\n      function copyUrl() {\\n        var Url = window.location.href;\\n        var input = document.createElement(\\'input\\');\\n        input.value = Url;\\n        document.body.appendChild(input)\\n        input.select();\\n        document.execCommand(\"copy\");\\n        document.body.removeChild(input);\\n      }\\n\\n      function sendEmail() {\\n        document.querySelector(\\'#ticket_body_email\\').innerHTML = document.querySelector(\\'.tickets_data_for_print\\').innerHTML\\n\\n        document.querySelector(\\'#recipient\\').innerHTML = document.querySelector(\\'#recipient_input\\').value\\n\\n        document.querySelector(\\'#url\\').innerHTML = window.location.href\\n\\n        document.querySelector(\\'#email_ticket_pdf_btn_submit\\').click()\\n      }\\n\\n      function printPdf() {\\n        document.querySelector(\\'#ticket_body\\').innerHTML = document.querySelector(\\'.tickets_data_for_print\\').innerHTML\\n\\n        document.querySelector(\\'#download_ticket_pdf_btn_submit\\').click()\\n      }\\n\\n      function printTicket() {\\n        const prtContent = document.querySelector(\\'.tickets_data_for_print\\'),\\n        WinPrint = window.open(\\'\\',\\'\\',\\'left=50,top=50,width=800,toolbar=0,scrollbars=1,status=0\\');\\n\\n        WinPrint.document.write(\\'<div id=\"print\" class=\"contentpane\" style=\"width: 300px; font-family: monospace;\">\\');\\n        WinPrint.document.write(prtContent.innerHTML);\\n        WinPrint.document.write(\\'</div>\\');\\n        WinPrint.document.close();\\n        WinPrint.focus();\\n        WinPrint.print();\\n        WinPrint.close();\\n      }\\n    </script>\\n\\n          </main>\\n\\n\\n        </div>\\n      </div>\\n    </div>\\n\\n\\n    <div class=\"container\" style=\"height: 100px;\">&nbsp;</div>\\n    <script src=\"/js/app.js?rand\"></script>\\n  </body>\\n</html>\\n'"
      ]
     },
     "execution_count": 3,
     "metadata": {},
     "output_type": "execute_result"
    }
   ],
   "source": [
    "response.text"
   ]
  },
  {
   "cell_type": "code",
   "execution_count": 4,
   "metadata": {},
   "outputs": [],
   "source": [
    "html_content = response.content\n",
    "\n",
    "soup = BeautifulSoup(html_content, 'html.parser')\n",
    "recipe_header = soup.find('div', {'class': 'ticket_header'}).text.strip()"
   ]
  },
  {
   "cell_type": "code",
   "execution_count": 5,
   "metadata": {},
   "outputs": [
    {
     "data": {
      "text/plain": [
       "'ФИЛИАЛ №46 ТОВАРИЩЕСТВА С ОГРАНИЧЕННОЙ ОТВЕТСТВЕННОСТЬЮ \"MAGNUM CASH&CARRY\" В ГОРОДЕ НУР-СУЛТАН\\n      \\n\\nИИН/БИН: \\n210941026669\\n      \\n\\n\\nРНМ: \\n010101506924\\n      \\n\\n\\nЗНМ: \\n500141622\\n      \\n\\n\\nАдрес: \\nРеспублика Казахстан, г. Астана, р-н Есиль,\\nҚабанбай Батыр, д. здание 53, оф. \\n      \\n\\n\\nДата и время: \\n17 апр 2023, 21:56\\n      \\n\\n\\nКассовый чек / Продажа'"
      ]
     },
     "execution_count": 5,
     "metadata": {},
     "output_type": "execute_result"
    }
   ],
   "source": [
    "recipe_header"
   ]
  },
  {
   "cell_type": "code",
   "execution_count": 48,
   "metadata": {},
   "outputs": [],
   "source": [
    "list_of_items = soup.find_all('li', style=\"border-bottom: 1px dotted #777; padding: 10px 0;\")"
   ]
  },
  {
   "cell_type": "code",
   "execution_count": 50,
   "metadata": {},
   "outputs": [
    {
     "data": {
      "text/plain": [
       "[<li style=\"border-bottom: 1px dotted #777; padding: 10px 0;\">\n",
       " 4607012351999 СЕМЕЧКИ ОТ МАРТИНА ОТБОРНЫЕ С СОЛЬЮ 200ГР П/П\n",
       "             <small>\n",
       " </small> <br/>\n",
       " <div class=\"ready_ticket__item\">\n",
       " <b>\n",
       " 0\n",
       "                 </b>\n",
       " 845.00 x\n",
       " 1\n",
       " 1\n",
       "                   = 845.00\n",
       "                   <div>\n",
       " -налог (12.0%): 90.54<br/>\n",
       " </div>\n",
       " </div>\n",
       " </li>,\n",
       " <li style=\"border-bottom: 1px dotted #777; padding: 10px 0;\">\n",
       " 4870235043068 НАПИТОК ЗОЛОТОЕ КОЛЬЦО ОРИГИНАЛЬНЫЙ 1Л П/Б\n",
       "             <small>\n",
       " </small> <br/>\n",
       " <div class=\"ready_ticket__item\">\n",
       " <b>\n",
       " 0\n",
       "                 </b>\n",
       " 381.00 x\n",
       " 1\n",
       " 1\n",
       "                   = 381.00\n",
       "                   <div>\n",
       " -налог (12.0%): 40.82<br/>\n",
       " </div>\n",
       " </div>\n",
       " </li>,\n",
       " <li style=\"border-bottom: 1px dotted #777; padding: 10px 0;\">\n",
       " 4870055004287 КЕФИР FOODMASTER БИО-С 3,2% 1Л Т/П\n",
       "             <small>\n",
       " </small> <br/>\n",
       " <div class=\"ready_ticket__item\">\n",
       " <b>\n",
       " 0\n",
       "                 </b>\n",
       " 769.00 x\n",
       " 1\n",
       " 1\n",
       "                   = 769.00\n",
       "                   <div>\n",
       " -налог (12.0%): 82.39<br/>\n",
       " </div>\n",
       " </div>\n",
       " </li>]"
      ]
     },
     "execution_count": 50,
     "metadata": {},
     "output_type": "execute_result"
    }
   ],
   "source": [
    "list_of_items"
   ]
  },
  {
   "cell_type": "code",
   "execution_count": 49,
   "metadata": {},
   "outputs": [],
   "source": [
    "item_texts = []\n",
    "item_prices = []\n"
   ]
  },
  {
   "cell_type": "code",
   "execution_count": 52,
   "metadata": {},
   "outputs": [
    {
     "name": "stdout",
     "output_type": "stream",
     "text": [
      "\n",
      "\n",
      "\n",
      "\n",
      "\n",
      "\n"
     ]
    },
    {
     "name": "stderr",
     "output_type": "stream",
     "text": [
      "C:\\Users\\Admin\\AppData\\Local\\Temp\\ipykernel_11008\\203627814.py:3: DeprecationWarning: The 'text' argument to find()-type methods is deprecated. Use 'string' instead.\n",
      "  print(div_tag.find(text = True))\n"
     ]
    }
   ],
   "source": [
    "for i in list_of_items:\n",
    "    div_tag = i.find(\"div\")\n",
    "    print(div_tag.find(text = True))"
   ]
  },
  {
   "cell_type": "code",
   "execution_count": 47,
   "metadata": {},
   "outputs": [
    {
     "name": "stderr",
     "output_type": "stream",
     "text": [
      "C:\\Users\\Admin\\AppData\\Local\\Temp\\ipykernel_11008\\1822381864.py:2: DeprecationWarning: The 'text' argument to find()-type methods is deprecated. Use 'string' instead.\n",
      "  item_texts.append(i.find(text = True).strip())\n"
     ]
    }
   ],
   "source": [
    "for i in list_of_items:\n",
    "    item_texts.append(i.find(text = True).strip())"
   ]
  },
  {
   "cell_type": "code",
   "execution_count": 44,
   "metadata": {},
   "outputs": [
    {
     "data": {
      "text/plain": [
       "['СЕМЕЧКИ ОТ МАРТИНА ОТБОРНЫЕ С СОЛЬЮ 200ГР',\n",
       " 'НАПИТОК ЗОЛОТОЕ КОЛЬЦО ОРИГИНАЛЬНЫЙ 1Л',\n",
       " 'КЕФИР FOODMASTER БИО-С 3,2% 1Л']"
      ]
     },
     "execution_count": 44,
     "metadata": {},
     "output_type": "execute_result"
    }
   ],
   "source": [
    "item_texts = [' '.join(i.split()[1:-1]) for i in item_texts]\n",
    "item_texts"
   ]
  }
 ],
 "metadata": {
  "kernelspec": {
   "display_name": "Python 3.10.4 64-bit",
   "language": "python",
   "name": "python3"
  },
  "language_info": {
   "codemirror_mode": {
    "name": "ipython",
    "version": 3
   },
   "file_extension": ".py",
   "mimetype": "text/x-python",
   "name": "python",
   "nbconvert_exporter": "python",
   "pygments_lexer": "ipython3",
   "version": "3.11.3"
  },
  "orig_nbformat": 4,
  "vscode": {
   "interpreter": {
    "hash": "369f2c481f4da34e4445cda3fffd2e751bd1c4d706f27375911949ba6bb62e1c"
   }
  }
 },
 "nbformat": 4,
 "nbformat_minor": 2
}

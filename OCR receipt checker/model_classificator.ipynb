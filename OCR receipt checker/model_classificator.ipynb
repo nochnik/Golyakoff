{
 "cells": [
  {
   "cell_type": "code",
   "execution_count": null,
   "metadata": {},
   "outputs": [],
   "source": [
    "import pandas as pd\n",
    "from sklearn.feature_extraction.text import CountVectorizer\n",
    "from sklearn.preprocessing import LabelEncoder\n",
    "from sklearn.model_selection import train_test_split\n",
    "from sklearn.linear_model import LogisticRegression\n",
    "from sklearn.metrics import accuracy_score, classification_report\n",
    "\n",
    "data = pd.read_csv('datasets/product_category.csv')\n"
   ]
  },
  {
   "cell_type": "code",
   "execution_count": null,
   "metadata": {},
   "outputs": [
    {
     "data": {
      "text/html": [
       "<div>\n",
       "<style scoped>\n",
       "    .dataframe tbody tr th:only-of-type {\n",
       "        vertical-align: middle;\n",
       "    }\n",
       "\n",
       "    .dataframe tbody tr th {\n",
       "        vertical-align: top;\n",
       "    }\n",
       "\n",
       "    .dataframe thead th {\n",
       "        text-align: right;\n",
       "    }\n",
       "</style>\n",
       "<table border=\"1\" class=\"dataframe\">\n",
       "  <thead>\n",
       "    <tr style=\"text-align: right;\">\n",
       "      <th></th>\n",
       "      <th>Продукты</th>\n",
       "      <th>Категория</th>\n",
       "    </tr>\n",
       "  </thead>\n",
       "  <tbody>\n",
       "    <tr>\n",
       "      <th>0</th>\n",
       "      <td>Сироп Add Sweety Карамель 1л с/б (Ќазаќстан/Ка...</td>\n",
       "      <td>Консервированные фрукты</td>\n",
       "    </tr>\n",
       "    <tr>\n",
       "      <th>1</th>\n",
       "      <td>Сироп Add Sweety Гранат 1л с/б (Ќазаќстан/Каза...</td>\n",
       "      <td>Консервированные фрукты</td>\n",
       "    </tr>\n",
       "    <tr>\n",
       "      <th>2</th>\n",
       "      <td>Сироп Add Sweety Тархун 1л с/б (Ќазаќстан/Каза...</td>\n",
       "      <td>Консервированные фрукты</td>\n",
       "    </tr>\n",
       "    <tr>\n",
       "      <th>3</th>\n",
       "      <td>Сироп Add Sweety Мохито 1л с/б (Ќазаќстан/Каза...</td>\n",
       "      <td>Консервированные фрукты</td>\n",
       "    </tr>\n",
       "    <tr>\n",
       "      <th>4</th>\n",
       "      <td>Сироп Add Sweety Клубника 1л с/б (Ќазаќстан/Ка...</td>\n",
       "      <td>Консервированные фрукты</td>\n",
       "    </tr>\n",
       "    <tr>\n",
       "      <th>...</th>\n",
       "      <td>...</td>\n",
       "      <td>...</td>\n",
       "    </tr>\n",
       "    <tr>\n",
       "      <th>10409</th>\n",
       "      <td>Набор Ручек Epene Шариковых 5шт ep01-0002-50 (...</td>\n",
       "      <td>Канцелярские принадлежности</td>\n",
       "    </tr>\n",
       "    <tr>\n",
       "      <th>10410</th>\n",
       "      <td>Бумага Цветная Радуга Creative Kris 100шт (Рес...</td>\n",
       "      <td>Канцелярские принадлежности</td>\n",
       "    </tr>\n",
       "    <tr>\n",
       "      <th>10411</th>\n",
       "      <td>Клей Пва Hatber 125г (Ресей/Россия)</td>\n",
       "      <td>Канцелярские принадлежности</td>\n",
       "    </tr>\n",
       "    <tr>\n",
       "      <th>10412</th>\n",
       "      <td>Набор Игровой д/лепки play-doh Mini артe4902 (...</td>\n",
       "      <td>Канцелярские принадлежности</td>\n",
       "    </tr>\n",
       "    <tr>\n",
       "      <th>10413</th>\n",
       "      <td>Набор Игровой д/лепки play-doh Маленький шеф-п...</td>\n",
       "      <td>Канцелярские принадлежности</td>\n",
       "    </tr>\n",
       "  </tbody>\n",
       "</table>\n",
       "<p>10414 rows × 2 columns</p>\n",
       "</div>"
      ],
      "text/plain": [
       "                                                Продукты   \n",
       "0      Сироп Add Sweety Карамель 1л с/б (Ќазаќстан/Ка...  \\\n",
       "1      Сироп Add Sweety Гранат 1л с/б (Ќазаќстан/Каза...   \n",
       "2      Сироп Add Sweety Тархун 1л с/б (Ќазаќстан/Каза...   \n",
       "3      Сироп Add Sweety Мохито 1л с/б (Ќазаќстан/Каза...   \n",
       "4      Сироп Add Sweety Клубника 1л с/б (Ќазаќстан/Ка...   \n",
       "...                                                  ...   \n",
       "10409  Набор Ручек Epene Шариковых 5шт ep01-0002-50 (...   \n",
       "10410  Бумага Цветная Радуга Creative Kris 100шт (Рес...   \n",
       "10411                Клей Пва Hatber 125г (Ресей/Россия)   \n",
       "10412  Набор Игровой д/лепки play-doh Mini артe4902 (...   \n",
       "10413  Набор Игровой д/лепки play-doh Маленький шеф-п...   \n",
       "\n",
       "                         Категория  \n",
       "0          Консервированные фрукты  \n",
       "1          Консервированные фрукты  \n",
       "2          Консервированные фрукты  \n",
       "3          Консервированные фрукты  \n",
       "4          Консервированные фрукты  \n",
       "...                            ...  \n",
       "10409  Канцелярские принадлежности  \n",
       "10410  Канцелярские принадлежности  \n",
       "10411  Канцелярские принадлежности  \n",
       "10412  Канцелярские принадлежности  \n",
       "10413  Канцелярские принадлежности  \n",
       "\n",
       "[10414 rows x 2 columns]"
      ]
     },
     "execution_count": 2,
     "metadata": {},
     "output_type": "execute_result"
    }
   ],
   "source": [
    "data"
   ]
  },
  {
   "cell_type": "code",
   "execution_count": null,
   "metadata": {},
   "outputs": [],
   "source": [
    "X_train, X_test, y_train, y_test = train_test_split(data['Продукты'], data['Категория'], test_size=0.2, random_state=42)"
   ]
  },
  {
   "cell_type": "code",
   "execution_count": null,
   "metadata": {},
   "outputs": [],
   "source": [
    "vectorizer = CountVectorizer()\n",
    "X_train_vec = vectorizer.fit_transform(X_train)\n",
    "X_test_vec = vectorizer.transform(X_test)\n"
   ]
  },
  {
   "cell_type": "code",
   "execution_count": null,
   "metadata": {},
   "outputs": [],
   "source": [
    "label_encoder = LabelEncoder()\n",
    "y_train_enc = label_encoder.fit_transform(y_train)\n",
    "y_test_enc = label_encoder.transform(y_test)\n"
   ]
  },
  {
   "cell_type": "code",
   "execution_count": null,
   "metadata": {},
   "outputs": [
    {
     "data": {
      "text/html": [
       "<style>#sk-container-id-1 {color: black;background-color: white;}#sk-container-id-1 pre{padding: 0;}#sk-container-id-1 div.sk-toggleable {background-color: white;}#sk-container-id-1 label.sk-toggleable__label {cursor: pointer;display: block;width: 100%;margin-bottom: 0;padding: 0.3em;box-sizing: border-box;text-align: center;}#sk-container-id-1 label.sk-toggleable__label-arrow:before {content: \"▸\";float: left;margin-right: 0.25em;color: #696969;}#sk-container-id-1 label.sk-toggleable__label-arrow:hover:before {color: black;}#sk-container-id-1 div.sk-estimator:hover label.sk-toggleable__label-arrow:before {color: black;}#sk-container-id-1 div.sk-toggleable__content {max-height: 0;max-width: 0;overflow: hidden;text-align: left;background-color: #f0f8ff;}#sk-container-id-1 div.sk-toggleable__content pre {margin: 0.2em;color: black;border-radius: 0.25em;background-color: #f0f8ff;}#sk-container-id-1 input.sk-toggleable__control:checked~div.sk-toggleable__content {max-height: 200px;max-width: 100%;overflow: auto;}#sk-container-id-1 input.sk-toggleable__control:checked~label.sk-toggleable__label-arrow:before {content: \"▾\";}#sk-container-id-1 div.sk-estimator input.sk-toggleable__control:checked~label.sk-toggleable__label {background-color: #d4ebff;}#sk-container-id-1 div.sk-label input.sk-toggleable__control:checked~label.sk-toggleable__label {background-color: #d4ebff;}#sk-container-id-1 input.sk-hidden--visually {border: 0;clip: rect(1px 1px 1px 1px);clip: rect(1px, 1px, 1px, 1px);height: 1px;margin: -1px;overflow: hidden;padding: 0;position: absolute;width: 1px;}#sk-container-id-1 div.sk-estimator {font-family: monospace;background-color: #f0f8ff;border: 1px dotted black;border-radius: 0.25em;box-sizing: border-box;margin-bottom: 0.5em;}#sk-container-id-1 div.sk-estimator:hover {background-color: #d4ebff;}#sk-container-id-1 div.sk-parallel-item::after {content: \"\";width: 100%;border-bottom: 1px solid gray;flex-grow: 1;}#sk-container-id-1 div.sk-label:hover label.sk-toggleable__label {background-color: #d4ebff;}#sk-container-id-1 div.sk-serial::before {content: \"\";position: absolute;border-left: 1px solid gray;box-sizing: border-box;top: 0;bottom: 0;left: 50%;z-index: 0;}#sk-container-id-1 div.sk-serial {display: flex;flex-direction: column;align-items: center;background-color: white;padding-right: 0.2em;padding-left: 0.2em;position: relative;}#sk-container-id-1 div.sk-item {position: relative;z-index: 1;}#sk-container-id-1 div.sk-parallel {display: flex;align-items: stretch;justify-content: center;background-color: white;position: relative;}#sk-container-id-1 div.sk-item::before, #sk-container-id-1 div.sk-parallel-item::before {content: \"\";position: absolute;border-left: 1px solid gray;box-sizing: border-box;top: 0;bottom: 0;left: 50%;z-index: -1;}#sk-container-id-1 div.sk-parallel-item {display: flex;flex-direction: column;z-index: 1;position: relative;background-color: white;}#sk-container-id-1 div.sk-parallel-item:first-child::after {align-self: flex-end;width: 50%;}#sk-container-id-1 div.sk-parallel-item:last-child::after {align-self: flex-start;width: 50%;}#sk-container-id-1 div.sk-parallel-item:only-child::after {width: 0;}#sk-container-id-1 div.sk-dashed-wrapped {border: 1px dashed gray;margin: 0 0.4em 0.5em 0.4em;box-sizing: border-box;padding-bottom: 0.4em;background-color: white;}#sk-container-id-1 div.sk-label label {font-family: monospace;font-weight: bold;display: inline-block;line-height: 1.2em;}#sk-container-id-1 div.sk-label-container {text-align: center;}#sk-container-id-1 div.sk-container {/* jupyter's `normalize.less` sets `[hidden] { display: none; }` but bootstrap.min.css set `[hidden] { display: none !important; }` so we also need the `!important` here to be able to override the default hidden behavior on the sphinx rendered scikit-learn.org. See: https://github.com/scikit-learn/scikit-learn/issues/21755 */display: inline-block !important;position: relative;}#sk-container-id-1 div.sk-text-repr-fallback {display: none;}</style><div id=\"sk-container-id-1\" class=\"sk-top-container\"><div class=\"sk-text-repr-fallback\"><pre>LogisticRegression(max_iter=1000)</pre><b>In a Jupyter environment, please rerun this cell to show the HTML representation or trust the notebook. <br />On GitHub, the HTML representation is unable to render, please try loading this page with nbviewer.org.</b></div><div class=\"sk-container\" hidden><div class=\"sk-item\"><div class=\"sk-estimator sk-toggleable\"><input class=\"sk-toggleable__control sk-hidden--visually\" id=\"sk-estimator-id-1\" type=\"checkbox\" checked><label for=\"sk-estimator-id-1\" class=\"sk-toggleable__label sk-toggleable__label-arrow\">LogisticRegression</label><div class=\"sk-toggleable__content\"><pre>LogisticRegression(max_iter=1000)</pre></div></div></div></div></div>"
      ],
      "text/plain": [
       "LogisticRegression(max_iter=1000)"
      ]
     },
     "execution_count": 6,
     "metadata": {},
     "output_type": "execute_result"
    }
   ],
   "source": [
    "model = LogisticRegression(max_iter=1000)\n",
    "model.fit(X_train_vec, y_train_enc)"
   ]
  },
  {
   "cell_type": "code",
   "execution_count": null,
   "metadata": {},
   "outputs": [],
   "source": [
    "y_pred = model.predict(X_test_vec)"
   ]
  },
  {
   "cell_type": "code",
   "execution_count": null,
   "metadata": {},
   "outputs": [
    {
     "name": "stdout",
     "output_type": "stream",
     "text": [
      "Accuracy: 0.85\n",
      "                                     precision    recall  f1-score   support\n",
      "\n",
      "             Безалкогольные напитки       0.97      0.98      0.98       133\n",
      "                      Бытовая химия       1.00      0.99      0.99        76\n",
      "                        Гастрономия       0.93      0.98      0.95       167\n",
      "                    Детское питание       1.00      0.97      0.98        59\n",
      "              Замороженные продукты       0.61      0.58      0.59       103\n",
      "        Канцелярские принадлежности       1.00      0.58      0.74        24\n",
      "               Кондитерские изделия       0.64      0.71      0.67       269\n",
      "        Консервированное мясо птицы       0.96      1.00      0.98        22\n",
      "             Консервированные овощи       1.00      0.96      0.98        54\n",
      "            Консервированные фрукты       1.00      0.95      0.97        20\n",
      "  Консервы из птицы и порепродуктов       1.00      0.88      0.93        32\n",
      "                  Консервы молочные       0.86      0.86      0.86        14\n",
      "Косметика, парфюмерия, Фармацевтика       0.96      0.96      0.96       141\n",
      "                      Крупы весовые       1.00      0.75      0.86         4\n",
      "                           Макароны       1.00      1.00      1.00        52\n",
      "                 Масла растительные       1.00      1.00      1.00        30\n",
      "                  Молочные продукты       0.97      0.98      0.98       193\n",
      "                          Мороженое       0.08      0.08      0.08        39\n",
      "                               Мука       1.00      0.93      0.97        15\n",
      "            Мучные изделия, выпечка       0.12      0.09      0.10       109\n",
      "                              Овощи       0.00      0.00      0.00         5\n",
      "        Овощи, Фрукты, Ягоды, Грибы       0.85      0.81      0.83        43\n",
      "                    Средства гигены       0.98      0.97      0.97       202\n",
      "                Товары для животных       1.00      0.98      0.99        62\n",
      "               Хозяйственные товары       0.93      0.97      0.95        65\n",
      "                          Чай, Кофе       0.96      1.00      0.98       150\n",
      "\n",
      "                           accuracy                           0.85      2083\n",
      "                          macro avg       0.84      0.81      0.82      2083\n",
      "                       weighted avg       0.84      0.85      0.84      2083\n",
      "\n"
     ]
    }
   ],
   "source": [
    "accuracy = accuracy_score(y_test_enc, y_pred)\n",
    "report = classification_report(y_test_enc, y_pred, target_names=label_encoder.classes_)\n",
    "print(f'Accuracy: {accuracy:.2f}')\n",
    "print(report)"
   ]
  },
  {
   "cell_type": "code",
   "execution_count": null,
   "metadata": {},
   "outputs": [],
   "source": [
    "import joblib\n",
    "\n",
    "joblib.dump(model, 'model.pkl')\n",
    "\n"
   ]
  }
 ],
 "metadata": {
  "kernelspec": {
   "display_name": "Python 3",
   "language": "python",
   "name": "python3"
  },
  "language_info": {
   "codemirror_mode": {
    "name": "ipython",
    "version": 3
   },
   "file_extension": ".py",
   "mimetype": "text/x-python",
   "name": "python",
   "nbconvert_exporter": "python",
   "pygments_lexer": "ipython3",
   "version": "3.11.3"
  },
  "orig_nbformat": 4
 },
 "nbformat": 4,
 "nbformat_minor": 2
}
